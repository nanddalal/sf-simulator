{
  "nbformat": 4,
  "nbformat_minor": 0,
  "metadata": {
    "colab": {
      "name": "sf_simulator.ipynb",
      "provenance": [],
      "collapsed_sections": [],
      "authorship_tag": "ABX9TyNUef3hxFSsPk0gV7Xgeut4",
      "include_colab_link": true
    },
    "kernelspec": {
      "name": "python3",
      "display_name": "Python 3"
    }
  },
  "cells": [
    {
      "cell_type": "markdown",
      "metadata": {
        "id": "view-in-github",
        "colab_type": "text"
      },
      "source": [
        "<a href=\"https://colab.research.google.com/github/nanddalal/sf-simulator/blob/main/sf_simulator.ipynb\" target=\"_parent\"><img src=\"https://colab.research.google.com/assets/colab-badge.svg\" alt=\"Open In Colab\"/></a>"
      ]
    },
    {
      "cell_type": "markdown",
      "metadata": {
        "id": "1hYyjit-UwbT"
      },
      "source": [
        "# SF Simulator\n",
        "\n",
        "This notebook can be used to simulate costs and number of attempts to get some desired SF for your equips. Here we assume you are starting with some unique equipment so that it is easy to transfer if it goes boom.\n",
        "\n",
        "The main variables you should adjust before running this are in the second cell.\n",
        "- `BASE_SF` : the starting star force of your equip. You might already have star forced up to some number or used a star force scroll from an event. So if your equip is already 15 SF, set `BASE_SF = 15`.\n",
        "- `BASE_COST` : the cost of a level 1 unique from the trade station. When your equip goes boom, you have to buy a copy from the trade station. I was running this for muspel thief shoes, which were around 4mil, so I set `BASE_COST = 4000000`.\n",
        "- `TARGET_SF` : the final desired SF for your equip. I need to get all my equips to SF 18 at the moment, so I set `TARGET_SF = 18`.\n",
        "\n",
        "F2P can also make use of decline and destruction prevention scrolls from events, Kerning, etc, so it would be interesting to add that to this simulation as well..."
      ]
    },
    {
      "cell_type": "code",
      "metadata": {
        "id": "B5LEreRo__g7"
      },
      "source": [
        "BASE_SF = 0\n",
        "BASE_COST = 4000000\n",
        "TARGET_SF = 18"
      ],
      "execution_count": 1,
      "outputs": []
    },
    {
      "cell_type": "code",
      "metadata": {
        "id": "ZOrchuHvU3LA"
      },
      "source": [
        "import random\n",
        "\n",
        "import numpy as np\n",
        "import pandas as pd"
      ],
      "execution_count": 2,
      "outputs": []
    },
    {
      "cell_type": "code",
      "metadata": {
        "id": "uU9Iu7GdRFGT"
      },
      "source": [
        "class Session(object):\n",
        "    def __init__(self, base_sf, base_cost):\n",
        "        df = pd.read_csv('rates.csv')\n",
        "        self.rates_by_sf = {row['sf']: row for row in df.to_dict('records')}\n",
        "        self.base_sf = base_sf\n",
        "        self.base_cost = base_cost\n",
        "\n",
        "    def _reset(self):\n",
        "        self.curr_sf = self.base_sf\n",
        "        self.curr_cost = 0\n",
        "\n",
        "    def _hit(self):\n",
        "        rates = self.rates_by_sf[self.curr_sf]\n",
        "        self.curr_cost += rates['cost']\n",
        "        prob = random.uniform(0, 1)\n",
        "        if prob <= rates['success']:\n",
        "            self.curr_sf += 1\n",
        "        elif prob <= (rates['maintained'] + rates['success']):\n",
        "            pass\n",
        "        elif prob <= (rates['degraded'] + rates['maintained'] + rates['success']):\n",
        "            self.curr_sf -= 1\n",
        "        elif prob <= (rates['destroyed'] + rates['degraded'] + rates['maintained'] + rates['success']):\n",
        "            self.curr_cost += self.base_cost\n",
        "        else:\n",
        "            raise ValueError(f'invalid case, prob : {prob}')\n",
        "\n",
        "    def simulate(self, target_sf):\n",
        "        self._reset()\n",
        "        if target_sf < self.curr_sf:\n",
        "            raise ValueError(f'target sf ({target_sf}) must be greater than base sf ({self.base_sf})')\n",
        "        num_hits = 0\n",
        "        while self.curr_sf != target_sf:\n",
        "            self._hit()\n",
        "            num_hits += 1\n",
        "        result = {\n",
        "            'cost': self.curr_cost,\n",
        "            'hits': num_hits,\n",
        "        }\n",
        "        return result"
      ],
      "execution_count": 3,
      "outputs": []
    },
    {
      "cell_type": "code",
      "metadata": {
        "id": "5oBQ9qYHADJi"
      },
      "source": [
        "def compute_bootstrap_batch(base_sf, base_cost, target_sf):\n",
        "    session = Session(base_sf, base_cost)\n",
        "    results = []\n",
        "    for _ in range(1000): # num bootstrap samples\n",
        "        result = session.simulate(target_sf)\n",
        "        results.append(result)\n",
        "    results = pd.DataFrame(results)\n",
        "    return results"
      ],
      "execution_count": 4,
      "outputs": []
    },
    {
      "cell_type": "code",
      "metadata": {
        "id": "IuBNK0BuPBso"
      },
      "source": [
        "def compute_bootstrap_stepwise(base_sf, base_cost, target_sf):\n",
        "    mean_results = []\n",
        "    for base_sf in range(base_sf, target_sf):\n",
        "        target_sf = base_sf + 1\n",
        "        results = compute_bootstrap_batch(base_sf, base_cost, target_sf)\n",
        "        mean_result = results.mean().to_dict()\n",
        "        mean_result['target_sf'] = target_sf\n",
        "        mean_results.append(mean_result)\n",
        "    mean_results = pd.DataFrame(mean_results)\n",
        "    return mean_results"
      ],
      "execution_count": 5,
      "outputs": []
    },
    {
      "cell_type": "code",
      "metadata": {
        "colab": {
          "base_uri": "https://localhost:8080/",
          "height": 454
        },
        "id": "Y39boiU0PKQA",
        "outputId": "ee73c377-57ec-4730-a978-ef2ba4bf1509"
      },
      "source": [
        "results = compute_bootstrap_batch(BASE_SF, BASE_COST, TARGET_SF)\n",
        "results.hist(figsize=(16,6))\n",
        "results.mean()"
      ],
      "execution_count": 6,
      "outputs": [
        {
          "output_type": "execute_result",
          "data": {
            "text/plain": [
              "cost    1.270115e+08\n",
              "hits    9.235900e+01\n",
              "dtype: float64"
            ]
          },
          "metadata": {
            "tags": []
          },
          "execution_count": 6
        },
        {
          "output_type": "display_data",
          "data": {
            "image/png": "[encoded data removed]",
            "text/plain": [
              "<Figure size 1152x432 with 2 Axes>"
            ]
          },
          "metadata": {
            "tags": [],
            "needs_background": "light"
          }
        }
      ]
    },
    {
      "cell_type": "code",
      "metadata": {
        "colab": {
          "base_uri": "https://localhost:8080/",
          "height": 772
        },
        "id": "pjDMbZkuAGmp",
        "outputId": "3547a23d-c47e-4362-ef60-1adc60e41239"
      },
      "source": [
        "mean_results = compute_bootstrap_stepwise(BASE_SF, BASE_COST, TARGET_SF)\n",
        "def plot_mean_result(y):\n",
        "    mean_results.plot(x='target_sf', y=y, xticks=mean_results['target_sf'], kind='scatter', grid=True, figsize=(8,6))\n",
        "plot_mean_result('cost')\n",
        "plot_mean_result('hits')"
      ],
      "execution_count": 7,
      "outputs": [
        {
          "output_type": "display_data",
          "data": {
            "image/png": "[encoded data removed]",
            "text/plain": [
              "<Figure size 576x432 with 1 Axes>"
            ]
          },
          "metadata": {
            "tags": [],
            "needs_background": "light"
          }
        },
        {
          "output_type": "display_data",
          "data": {
            "image/png": "[encoded data removed]",
            "text/plain": [
              "<Figure size 576x432 with 1 Axes>"
            ]
          },
          "metadata": {
            "tags": [],
            "needs_background": "light"
          }
        }
      ]
    },
    {
      "cell_type": "code",
      "metadata": {
        "id": "qPNyIeIbR-g2"
      },
      "source": [
        ""
      ],
      "execution_count": 7,
      "outputs": []
    }
  ]
}